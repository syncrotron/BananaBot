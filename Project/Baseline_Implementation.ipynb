{
 "cells": [
  {
   "source": [
    "# Banana Bot Baseline Code\n",
    "## Samuel Horovatin, 11185403, sch923"
   ],
   "cell_type": "markdown",
   "metadata": {}
  },
  {
   "cell_type": "code",
   "execution_count": 4,
   "metadata": {},
   "outputs": [],
   "source": [
    "import tensorflow as tf\n",
    "import pandas as pd\n",
    "import numpy as np\n",
    "import os, datetime\n",
    "import math\n",
    "\n",
    "EPOCHS = 20\n",
    "BATCH = 8\n",
    "OPTIMIZER = 'adam'\n",
    "LOSS = 'mse'\n",
    "\n",
    "def MRD(y_true, y_pred):\n",
    "    return tf.keras.backend.sum(tf.keras.backend.abs(y_pred-y_true)/y_true)\n",
    "\n",
    "def one_FVU(y_true, y_pred):\n",
    "    y_mean = tf.keras.backend.mean(y_true)\n",
    "    return 1 - (tf.keras.backend.sum(tf.keras.backend.square(y_true - y_pred)) / tf.keras.backend.sum(tf.keras.backend.square(y_true - y_mean)))\n",
    "\n",
    "METRICS = [MRD, one_FVU]"
   ]
  },
  {
   "cell_type": "code",
   "execution_count": 5,
   "metadata": {},
   "outputs": [
    {
     "output_type": "stream",
     "name": "stdout",
     "text": [
      "Found 399 validated image filenames.\nFound 170 validated image filenames.\nFound 569 validated image filenames.\n"
     ]
    }
   ],
   "source": [
    "# Constants for Data Imports\n",
    "# DATA_PATH = 'data'\n",
    "DATA_PATH = 'G:\\\\shoro\\\\OneDrive - Personal\\\\OneDrive\\School\\\\2020-2021\\\\CMPT 898\\\\CMPT898_Repo\\\\Project\\\\data\\\\bananas\\\\'\n",
    "LABEL_PATH = \"Estu.csv\"\n",
    "VALIDATION_SPLIT = 0.3\n",
    "SEED = 1983\n",
    "TARGET_SIZE = (320,320)\n",
    "\n",
    "# Gets labels from label csv\n",
    "data_label_df = pd.read_csv(LABEL_PATH)\n",
    "\n",
    "# Create training and testing datasets\n",
    "dat_gen = tf.keras.preprocessing.image.ImageDataGenerator(rescale=1./255, validation_split=VALIDATION_SPLIT)\n",
    "\n",
    "train_datagen = dat_gen.flow_from_dataframe(\n",
    "    dataframe=data_label_df,\n",
    "    directory=DATA_PATH,\n",
    "    x_col='File Name',\n",
    "    y_col='Weight',\n",
    "    target_size=TARGET_SIZE,\n",
    "    batch_size=BATCH,\n",
    "    class_mode='raw',\n",
    "    shuffle=True,\n",
    "    seed=SEED,\n",
    "    subset='training'\n",
    ")\n",
    "\n",
    "valid_datagen = dat_gen.flow_from_dataframe(\n",
    "    dataframe=data_label_df,\n",
    "    directory=DATA_PATH,\n",
    "    x_col='File Name',\n",
    "    y_col='Weight',\n",
    "    target_size=TARGET_SIZE,\n",
    "    batch_size=BATCH,\n",
    "    class_mode='raw',\n",
    "    shuffle=True,\n",
    "    seed=SEED,\n",
    "    subset=\"validation\"\n",
    ")\n",
    "\n",
    "test_datagen = tf.keras.preprocessing.image.ImageDataGenerator(rescale=1./255)\n",
    "\n",
    "test_datagen = test_datagen.flow_from_dataframe(\n",
    "    dataframe=data_label_df,\n",
    "    directory=DATA_PATH,\n",
    "    x_col='File Name',\n",
    "    y_col='Weight',\n",
    "    target_size=TARGET_SIZE,\n",
    "    batch_size=BATCH,\n",
    "    class_mode='raw',\n",
    "    shuffle=True,\n",
    "    seed=SEED\n",
    ")"
   ]
  },
  {
   "cell_type": "code",
   "execution_count": 6,
   "metadata": {
    "tags": []
   },
   "outputs": [],
   "source": [
    "# Trains the model given the constant parameters and returns the model and the fit history\n",
    "def train_model(model, train_datagen, test_datagen, valid_datagen):\n",
    "  model.compile(optimizer=OPTIMIZER,\n",
    "                loss=LOSS,\n",
    "                metrics=METRICS)\n",
    "\n",
    "  csv_logger = tf.keras.callbacks.CSVLogger('training.log', separator=',')\n",
    "  early_stop = tf.keras.callbacks.EarlyStopping(monitor='val_loss', min_delta=0.03, mode='min', patience=8)\n",
    "\n",
    "  STEP_SIZE_TRAIN=train_datagen.n//train_datagen.batch_size\n",
    "  STEP_SIZE_VALID=valid_datagen.n//valid_datagen.batch_size\n",
    "  STEP_SIZE_TEST=test_datagen.n//test_datagen.batch_size\n",
    "\n",
    "  history = model.fit(x=train_datagen,\n",
    "                      steps_per_epoch=STEP_SIZE_TRAIN,\n",
    "                      validation_data=valid_datagen,\n",
    "                      validation_steps=STEP_SIZE_VALID, \n",
    "                      epochs=EPOCHS,\n",
    "                      callbacks=[csv_logger])\n",
    "        \n",
    "  return (model, history)"
   ]
  },
  {
   "cell_type": "code",
   "execution_count": 7,
   "metadata": {},
   "outputs": [
    {
     "output_type": "stream",
     "name": "stdout",
     "text": [
      "Epoch 1/20\n",
      "49/49 [==============================] - 11s 230ms/step - loss: 662.1063 - MRD: 7.8857 - one_FVU: -19.0289 - val_loss: 28.2508 - val_MRD: 5.9136 - val_one_FVU: -6.4160\n",
      "Epoch 2/20\n",
      "49/49 [==============================] - 4s 87ms/step - loss: 552.0653 - MRD: 6.8972 - one_FVU: -15.0679 - val_loss: 623.3693 - val_MRD: 32.7808 - val_one_FVU: -207.3793\n",
      "Epoch 3/20\n",
      "49/49 [==============================] - 4s 87ms/step - loss: 410.1734 - MRD: 7.7575 - one_FVU: -19.8305 - val_loss: 420.5046 - val_MRD: 24.5527 - val_one_FVU: -138.1605\n",
      "Epoch 4/20\n",
      "49/49 [==============================] - 4s 82ms/step - loss: 249.2505 - MRD: 7.2754 - one_FVU: -195.1896 - val_loss: 23.1052 - val_MRD: 5.1429 - val_one_FVU: -5.7787\n",
      "Epoch 5/20\n",
      "49/49 [==============================] - 4s 85ms/step - loss: 205.2430 - MRD: 5.7187 - one_FVU: -11.4990 - val_loss: 42.8474 - val_MRD: 6.9267 - val_one_FVU: -12.2486\n",
      "Epoch 6/20\n",
      "49/49 [==============================] - 5s 94ms/step - loss: 103.6394 - MRD: 4.3956 - one_FVU: -6.7935 - val_loss: 80.3288 - val_MRD: 8.8097 - val_one_FVU: -25.2940\n",
      "Epoch 7/20\n",
      "49/49 [==============================] - 5s 100ms/step - loss: 42.2706 - MRD: 3.7101 - one_FVU: -5.7258 - val_loss: 26.2615 - val_MRD: 5.2456 - val_one_FVU: -5.4860\n",
      "Epoch 8/20\n",
      "49/49 [==============================] - 4s 91ms/step - loss: 45.4916 - MRD: 3.1471 - one_FVU: -3.6248 - val_loss: 388.6094 - val_MRD: 21.3536 - val_one_FVU: -111.0040\n",
      "Epoch 9/20\n",
      "49/49 [==============================] - 5s 97ms/step - loss: 38.4022 - MRD: 2.6797 - one_FVU: -1.7606 - val_loss: 109.9827 - val_MRD: 10.0600 - val_one_FVU: -29.2975\n",
      "Epoch 10/20\n",
      "49/49 [==============================] - 5s 93ms/step - loss: 32.8593 - MRD: 2.4186 - one_FVU: -7.1146 - val_loss: 58.3460 - val_MRD: 7.2490 - val_one_FVU: -20.4587\n",
      "Epoch 11/20\n",
      "49/49 [==============================] - 5s 97ms/step - loss: 13.7938 - MRD: 1.7810 - one_FVU: 0.2203 - val_loss: 101.8998 - val_MRD: 9.8720 - val_one_FVU: -22.9606\n",
      "Epoch 12/20\n",
      "49/49 [==============================] - 4s 87ms/step - loss: 5.7409 - MRD: 1.4183 - one_FVU: 0.1476 - val_loss: 83.8200 - val_MRD: 8.6982 - val_one_FVU: -40.8229\n",
      "Epoch 13/20\n",
      "49/49 [==============================] - 4s 87ms/step - loss: 3.2190 - MRD: 1.3222 - one_FVU: 0.4757 - val_loss: 100.6272 - val_MRD: 9.9824 - val_one_FVU: -29.1462\n",
      "Epoch 14/20\n",
      "49/49 [==============================] - 5s 95ms/step - loss: 3.1761 - MRD: 1.2242 - one_FVU: 0.5930 - val_loss: 90.1641 - val_MRD: 8.8949 - val_one_FVU: -21.5654\n",
      "Epoch 15/20\n",
      "49/49 [==============================] - 4s 86ms/step - loss: 2.5875 - MRD: 1.0482 - one_FVU: 0.3304 - val_loss: 112.3840 - val_MRD: 10.2120 - val_one_FVU: -41.0858\n",
      "Epoch 16/20\n",
      "49/49 [==============================] - 4s 82ms/step - loss: 2.2439 - MRD: 0.9837 - one_FVU: 0.3957 - val_loss: 75.1544 - val_MRD: 8.2307 - val_one_FVU: -17.7066\n",
      "Epoch 17/20\n",
      "49/49 [==============================] - 4s 81ms/step - loss: 2.4537 - MRD: 1.0137 - one_FVU: 0.3965 - val_loss: 80.3729 - val_MRD: 8.3677 - val_one_FVU: -21.1604\n",
      "Epoch 18/20\n",
      "49/49 [==============================] - 4s 82ms/step - loss: 2.4367 - MRD: 0.9205 - one_FVU: 0.8181 - val_loss: 82.0282 - val_MRD: 8.4611 - val_one_FVU: -45.2852\n",
      "Epoch 19/20\n",
      "49/49 [==============================] - 4s 85ms/step - loss: 2.1503 - MRD: 0.9229 - one_FVU: 0.7444 - val_loss: 128.5218 - val_MRD: 11.3011 - val_one_FVU: -47.4428\n",
      "Epoch 20/20\n",
      "49/49 [==============================] - 4s 85ms/step - loss: 1.5224 - MRD: 0.7047 - one_FVU: 0.0747 - val_loss: 102.5104 - val_MRD: 9.7990 - val_one_FVU: -29.8977\n"
     ]
    },
    {
     "output_type": "execute_result",
     "data": {
      "text/plain": [
       "<tensorflow.python.keras.engine.sequential.Sequential at 0x240de9d9dc8>"
      ]
     },
     "metadata": {},
     "execution_count": 7
    }
   ],
   "source": [
    "def regression_model():\n",
    "    model = tf.keras.models.Sequential()\n",
    "    model.add(tf.keras.layers.Conv2D(\n",
    "        filters=6, \n",
    "        kernel_size=5, \n",
    "        activation='relu', \n",
    "        input_shape=(320, 320, 3)))\n",
    "    model.add(tf.keras.layers.MaxPooling2D())\n",
    "    model.add(tf.keras.layers.Conv2D(\n",
    "        filters=16,\n",
    "        kernel_size=5, \n",
    "        activation='relu'))\n",
    "    model.add(tf.keras.layers.MaxPooling2D())\n",
    "    model.add(tf.keras.layers.Flatten())\n",
    "    model.add(tf.keras.layers.Dense(120, activation='relu'))\n",
    "    model.add(tf.keras.layers.Dense(84, activation='relu'))\n",
    "    model.add(tf.keras.layers.Dense(1))\n",
    "    return model\n",
    "\n",
    "train_model(regression_model(), train_datagen, test_datagen, valid_datagen)[0]"
   ]
  },
  {
   "cell_type": "code",
   "execution_count": null,
   "metadata": {},
   "outputs": [],
   "source": []
  }
 ],
 "metadata": {
  "kernelspec": {
   "display_name": "Python 3.7 (tensorflow)",
   "language": "python",
   "name": "tensorflow"
  },
  "language_info": {
   "codemirror_mode": {
    "name": "ipython",
    "version": 3
   },
   "file_extension": ".py",
   "mimetype": "text/x-python",
   "name": "python",
   "nbconvert_exporter": "python",
   "pygments_lexer": "ipython3",
   "version": "3.7.9-final"
  }
 },
 "nbformat": 4,
 "nbformat_minor": 4
}