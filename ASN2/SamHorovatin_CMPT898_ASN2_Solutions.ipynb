{
  "nbformat": 4,
  "nbformat_minor": 0,
  "metadata": {
    "kernelspec": {
      "display_name": "Python 3",
      "language": "python",
      "name": "python3"
    },
    "language_info": {
      "name": "",
      "version": "3.8.3-final"
    },
    "colab": {
      "name": "SamHorovatin_CMPT898_ASN2_Solutions.ipynb",
      "provenance": []
    }
  },
  "cells": [
    {
      "cell_type": "markdown",
      "metadata": {
        "id": "q8Nzkvj81Mej"
      },
      "source": [
        "# CMPT 898: Assigment 2 Solutions\n",
        "## By Samuel Horovatin, sch923, 11185403"
      ]
    },
    {
      "cell_type": "markdown",
      "metadata": {
        "id": "IoBR1C7X1Mem"
      },
      "source": [
        "### Question 1: *Re-implement the Keras tutorial for image classification in TensorFlow without using tf.keras objects.*"
      ]
    },
    {
      "cell_type": "code",
      "metadata": {
        "id": "9DnCkBbS1Mep"
      },
      "source": [
        "import tensorflow as tf\n",
        "import numpy as np\n",
        "import os, datetime\n",
        "\n",
        "epochs = 50\n",
        "\n",
        "(x_train, y_train),(x_test, y_test) = tf.keras.datasets.fashion_mnist.load_data()\n",
        "\n",
        "# Normalization of x_train and x_test\n",
        "x_train, x_test = x_train / 255.0, x_test / 255.0\n"
      ],
      "execution_count": 31,
      "outputs": []
    },
    {
      "cell_type": "code",
      "metadata": {
        "id": "WI79jg_Qg-Ot",
        "outputId": "5c77aee6-057f-4e7d-ce95-0afc6dc2483b",
        "colab": {
          "base_uri": "https://localhost:8080/",
          "height": 72
        }
      },
      "source": [
        "#REMOVE BEFORE SUBMISSION\n",
        "\n",
        "print(y_train[1])\n",
        "print('Before Reshape:', )\n",
        "print(\"After Reshape:\",np.reshape(x_train[1], (-1, 28, 28, 1)).shape)"
      ],
      "execution_count": 51,
      "outputs": [
        {
          "output_type": "stream",
          "text": [
            "0\n",
            "Before Reshape: 28\n",
            "After Reshape: (1, 28, 28, 1)\n"
          ],
          "name": "stdout"
        }
      ]
    },
    {
      "cell_type": "code",
      "metadata": {
        "id": "Bj5uF4Ss1Me5"
      },
      "source": [
        "# Takes a tensor and by default flattens it to 28 by 28\n",
        "def flatten(tensor,shape=(28,28)):\n",
        "  return tf.reshape(tensor, shape)\n",
        "\n",
        "# A relu density function. Takes a tensor x, scalar wieght W, and tensor bias b.\n",
        "def dense_relu(x, W, b):\n",
        "  return tf.nn.relu(tf.matmul(x, W) + b)\n",
        "\n",
        "# A dropout function that by default converts 20% of the input tensor x to 0.\n",
        "def dropout(tensor,rate=0.2):\n",
        "  return tf.nn.dropout(tensor, rate)\n",
        "\n",
        "# A softmax density function. Takes a tensor x, scalar wieght W, and a tensor b.\n",
        "def dense_softmax(x, W, b):\n",
        "  return tf.nn.softmax(tf.matmul(x, W) + b)\n",
        "\n",
        "\n",
        "# TODO\n",
        "#def cross_enthropy(actual_p, predicted_p):\n",
        "\n",
        "# TODO\n",
        "# def optimizer_adam(alpha=0.001):\n",
        "\n",
        "\n",
        "def gen_weight():\n",
        "  return tf.Variable(\n",
        "    tf.random.normal(\n",
        "    shape=[1,x_train.shape[2]],\n",
        "    seed=43))\n",
        "\n",
        "@tf.function\n",
        "def multilayer_network(x, W1, W2):\n",
        "  x = flatten(x)\n",
        "  x = dense_relu(x, W1, b)\n",
        "  x = dropout(x)\n",
        "  x = dense_softmax(x, W2, b)\n",
        "  return x\n",
        "\n"
      ],
      "execution_count": 25,
      "outputs": []
    },
    {
      "cell_type": "code",
      "metadata": {
        "id": "GYtOy-M3nCf1"
      },
      "source": [
        ""
      ],
      "execution_count": null,
      "outputs": []
    }
  ]
}